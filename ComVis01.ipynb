{
  "nbformat": 4,
  "nbformat_minor": 0,
  "metadata": {
    "colab": {
      "provenance": []
    },
    "kernelspec": {
      "name": "python3",
      "display_name": "Python 3"
    },
    "language_info": {
      "name": "python"
    }
  },
  "cells": [
    {
      "cell_type": "code",
      "execution_count": 1,
      "metadata": {
        "colab": {
          "base_uri": "https://localhost:8080/"
        },
        "id": "uJx5rp5Hbhtv",
        "outputId": "196db581-5471-448d-9553-9f5f9fd72153"
      },
      "outputs": [
        {
          "output_type": "stream",
          "name": "stdout",
          "text": [
            "圖片讀取失敗，請確認檔案路徑是否正確：'sample.jpg'\n"
          ]
        }
      ],
      "source": [
        "import cv2\n",
        "import numpy as np\n",
        "from google.colab.patches import cv2_imshow\n",
        "\n",
        "# 1. 讀取圖片\n",
        "img = cv2.imread('sample.jpg')\n",
        "\n",
        "# Check if image loading was successful and provide more specific feedback.\n",
        "if img is None:\n",
        "    print(\"圖片讀取失敗，請確認檔案路徑是否正確：'sample.jpg'\")\n",
        "    # Exit if image loading failed to prevent further errors.\n",
        "    exit()\n",
        "else:\n",
        "    cv2_imshow(img) # if run locally, use cv2.imshow(img)\n",
        "    cv2.waitKey(0)\n",
        "\n"
      ]
    },
    {
      "cell_type": "code",
      "source": [
        "\n",
        "# 2. 調整亮度與對比\n",
        "# 公式：new_img = alpha * img + beta\n",
        "alpha = 1.2  # 對比度因子\n",
        "beta = 30    # 亮度調整值\n",
        "adjusted = cv2.convertScaleAbs(img, alpha=alpha, beta=beta)\n",
        "cv2_imshow(adjusted)\n"
      ],
      "metadata": {
        "id": "oa6AGiGudRec"
      },
      "execution_count": null,
      "outputs": []
    },
    {
      "cell_type": "code",
      "source": [
        "\n",
        "# 3. 裁切圖片 (以中心區域為例)\n",
        "h, w = img.shape[:2]\n",
        "start_row, start_col = int(h*0.25), int(w*0.25)\n",
        "end_row, end_col = int(h*0.75), int(w*0.75)\n",
        "cropped = img[start_row:end_row, start_col:end_col]\n",
        "cv2_imshow(cropped)\n"
      ],
      "metadata": {
        "id": "XKeFzc-YdTIc"
      },
      "execution_count": null,
      "outputs": []
    },
    {
      "cell_type": "code",
      "source": [
        "\n",
        "# 4. 旋轉圖片 (旋轉45度)\n",
        "(h, w) = img.shape[:2]\n",
        "center = (w // 2, h // 2)\n",
        "M = cv2.getRotationMatrix2D(center, 45, 1.0)\n",
        "rotated = cv2.warpAffine(img, M, (w, h))\n",
        "cv2_imshow(rotated)\n",
        "\n",
        "# 其他旋轉:\n",
        "# cv2.rotate(img, cv2.ROTATE_90_CLOCKWISE)\n",
        "# cv2.rotate(img, cv2.ROTATE_180)\n",
        "# cv2.rotate(img, cv2.ROTATE_90_COUNTERCLOCKWISE)"
      ],
      "metadata": {
        "id": "fISdzXz7dU5o"
      },
      "execution_count": null,
      "outputs": []
    },
    {
      "cell_type": "code",
      "source": [
        "\n",
        "# 5. 翻轉圖片 (水平翻轉)\n",
        "flipped = cv2.flip(img, 1)  # 1:水平翻轉, 0:垂直翻轉\n",
        "cv2_imshow(flipped)\n"
      ],
      "metadata": {
        "id": "6HicjbRqdV7k"
      },
      "execution_count": null,
      "outputs": []
    },
    {
      "cell_type": "code",
      "source": [
        "\n",
        "# 6. 在圖片上繪製圖形與文字\n",
        "# 複製原圖以避免直接修改\n",
        "img_draw = img.copy()\n",
        "# 繪製矩形: 左上角與右下角座標\n",
        "cv2.rectangle(img_draw, (50, 50), (200, 200), (0, 255, 0), 2)\n",
        "# 繪製圓形: 圓心與半徑\n",
        "cv2.circle(img_draw, (300, 300), 50, (255, 0, 0), 3)\n",
        "# 繪製文字\n",
        "cv2.putText(img_draw, 'Hello OpenCV', (50, 300), cv2.FONT_HERSHEY_SIMPLEX, 1, (0, 0, 255), 2)\n",
        "cv2_imshow(img_draw)\n",
        "\n",
        "# 常見錯誤提示：\n",
        "# 1. 圖片路徑錯誤導致無法讀取圖片。\n",
        "# 2. 影像運算時資料型態不符，可使用 cv2.convertScaleAbs() 轉換。\n",
        "# 3. 旋轉時矩陣計算錯誤，請確認中心點與角度設定正確。"
      ],
      "metadata": {
        "id": "rn1fe2SFdYVU"
      },
      "execution_count": null,
      "outputs": []
    }
  ]
}